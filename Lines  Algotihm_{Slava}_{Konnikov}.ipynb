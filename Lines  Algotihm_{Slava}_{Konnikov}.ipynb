{
 "cells": [
  {
   "cell_type": "code",
   "execution_count": 3,
   "metadata": {},
   "outputs": [],
   "source": [
    "import pandas as pd\n",
    "import matplotlib.pyplot as plt\n",
    "import random"
   ]
  },
  {
   "cell_type": "markdown",
   "metadata": {},
   "source": [
    "# Algorithm"
   ]
  },
  {
   "cell_type": "markdown",
   "metadata": {
    "heading_collapsed": true
   },
   "source": [
    "#### TEST examples of data:"
   ]
  },
  {
   "cell_type": "code",
   "execution_count": 4,
   "metadata": {
    "hidden": true
   },
   "outputs": [],
   "source": [
    "exampn0 = [[3,8],[10,5],[8,10],[8,11],[10,13],[9,14],[6,15],[15,15],[3,10],[3,12],[1,1],[2,2],[3,3],[4,4]]\n",
    "exampn1 = [[3,8],[10,5],[8,10],[8,11],[10,13],[9,14],[6,15],[15,15],[3,10],[3,12],[10,10]]\n",
    "exampn2 = [[1,1],[2,2],[3,3],[4,4],[2,3],[2,4],[2,5],[2.5,4,5]]\n",
    "exampn3 = [[1,1],[2,2],[3,3],[4,4]]\n",
    "exampn4 = [[2,3],[2,4],[2,5],[2,8]]"
   ]
  },
  {
   "cell_type": "markdown",
   "metadata": {},
   "source": [
    "## Functions:"
   ]
  },
  {
   "cell_type": "code",
   "execution_count": 4,
   "metadata": {},
   "outputs": [],
   "source": [
    "# Function return: list with num -number of points\n",
    "def ran_set(num):\n",
    "    exam_list =[]\n",
    "    for j in range(num):\n",
    "        l = [random.randint(0,10) for i in range(2)]\n",
    "        exam_list.append(l)\n",
    "    return exam_list       "
   ]
  },
  {
   "cell_type": "code",
   "execution_count": 5,
   "metadata": {},
   "outputs": [],
   "source": [
    "#Function return scatter plot of list of points\n",
    "def point_vis(exam):\n",
    "    x_scat = []\n",
    "    y_scat = []\n",
    "    for i in range(len(exam)):\n",
    "          x_scat.append(exam[i][0])\n",
    "          y_scat.append(exam[i][1])        \n",
    "    plt.scatter(x_scat, y_scat)    "
   ]
  },
  {
   "cell_type": "code",
   "execution_count": 6,
   "metadata": {},
   "outputs": [],
   "source": [
    "# function takes: list op points and size of desirable number of points in line.\n",
    "#return list of lines\n",
    "def find_lines(list_of_points, segment_size):     \n",
    "    points_list = list_of_points\n",
    "    size = segment_size\n",
    "    list_of_lines = []\n",
    "    #we iterate over all points except last two(minimum size of segment 3 points)\n",
    "    for i in range(len(points_list)-2):\n",
    "        x0, y0 = points_list[i][0], points_list[i][1]\n",
    "        lines = []\n",
    "        horiz_line = [(x0,y0)] \n",
    "        vertical_line = [(x0,y0)]\n",
    "        for k in range(len(points_list)):\n",
    "            x1, y1 = points_list[k][0], points_list[k][1]\n",
    "            if (x0,y0) != (x1,y1):\n",
    "                if x1 ==x0:\n",
    "                    vertical_line.append((x1,y1))     \n",
    "                elif y1 == y0:\n",
    "                    horiz_line.append((x1,y1))\n",
    "                else:\n",
    "                    a1 = (y1-y0)/(x1-x0)\n",
    "                    line = [(x0,y0),(x1,y1)]\n",
    "                    for l in range(len(points_list)):\n",
    "                        x2,y2 = points_list[l][0], points_list[l][1]\n",
    "                        if x2 != x0 and (x0,y0) !=(x2,y2)and(x1,y1)!=(x2,y2):\n",
    "                            a2 = (y2-y0)/(x2-x0)\n",
    "                            if a1 == a2:\n",
    "                                line.append((x2,y2))\n",
    "                    line.sort()\n",
    "                    line = tuple(set(tuple(line)))\n",
    "                    if len(line) >=size:\n",
    "                        lines.append(line)\n",
    "        horiz_line.sort()\n",
    "        horiz_line = tuple(set(tuple(horiz_line)))\n",
    "        if len(horiz_line)>=size:\n",
    "            list_of_lines.append(horiz_line)\n",
    "        vertical_line.sort()\n",
    "        vertical_line = tuple(set(tuple(vertical_line)))\n",
    "        if len(vertical_line)>=size:\n",
    "            list_of_lines.append(vertical_line)\n",
    "        if len(lines) >=1:      \n",
    "            list_of_lines= list_of_lines + lines\n",
    "            \n",
    "    list_of_lines = set(tuple(list_of_lines))\n",
    "    return list(list_of_lines)  "
   ]
  },
  {
   "cell_type": "code",
   "execution_count": 7,
   "metadata": {},
   "outputs": [],
   "source": [
    "#Function takes: points- list of points, segment -list of lines.\n",
    "#return plot of scatter with lines\n",
    "def lines_plot(points, segment):\n",
    "    x_scat = []\n",
    "    y_scat = []\n",
    "    for i in range(len(points)):\n",
    "          x_scat.append(points[i][0])\n",
    "          y_scat.append(points[i][1])        \n",
    "    plt.scatter(x_scat, y_scat)\n",
    "    \n",
    "    for j in range(len(segment)):\n",
    "        x_plt = []\n",
    "        y_plt = []\n",
    "        for i in range(len(segment[j])):\n",
    "            x_plt.append(segment[j][i][0])\n",
    "            y_plt.append(segment[j][i][1])\n",
    "        plt.plot(x_plt, y_plt)   "
   ]
  },
  {
   "cell_type": "markdown",
   "metadata": {},
   "source": [
    "### example 00"
   ]
  },
  {
   "cell_type": "code",
   "execution_count": 8,
   "metadata": {},
   "outputs": [
    {
     "data": {
      "text/plain": [
       "21"
      ]
     },
     "execution_count": 8,
     "metadata": {},
     "output_type": "execute_result"
    }
   ],
   "source": [
    "example00 =[[9, 2],[3, 2],[8, 9],[9, 4],[7, 4],[7, 0],[4, 10],[9, 10],[10, 7],[7, 7],\n",
    " [7, 3],[6, 9],[2, 7],[8, 1],[2, 0],[4, 10],[1, 5],[7, 2],[0, 3],[9, 1],[8, 4]]\n",
    "len(example00)"
   ]
  },
  {
   "cell_type": "code",
   "execution_count": 9,
   "metadata": {},
   "outputs": [
    {
     "data": {
      "image/png": "[encoded data removed]",
      "text/plain": [
       "<Figure size 432x288 with 1 Axes>"
      ]
     },
     "metadata": {
      "needs_background": "light"
     },
     "output_type": "display_data"
    }
   ],
   "source": [
    "# list of points\n",
    "point_vis(example00)"
   ]
  },
  {
   "cell_type": "code",
   "execution_count": 11,
   "metadata": {},
   "outputs": [
    {
     "data": {
      "text/plain": [
       "[((9, 2), (9, 1), (9, 4), (9, 10)), ((7, 3), (7, 0), (7, 7), (7, 4), (7, 2))]"
      ]
     },
     "execution_count": 11,
     "metadata": {},
     "output_type": "execute_result"
    }
   ],
   "source": [
    "#find all lines with minimum size of 4\n",
    "num_segments = find_lines(example00, 4)\n",
    "num_segments"
   ]
  },
  {
   "cell_type": "code",
   "execution_count": 12,
   "metadata": {},
   "outputs": [
    {
     "data": {
      "image/png": "[encoded data removed]",
      "text/plain": [
       "<Figure size 432x288 with 1 Axes>"
      ]
     },
     "metadata": {
      "needs_background": "light"
     },
     "output_type": "display_data"
    }
   ],
   "source": [
    "#plot points and lines\n",
    "lines_plot(example00, num_segments)"
   ]
  },
  {
   "cell_type": "markdown",
   "metadata": {},
   "source": [
    "### random set example"
   ]
  },
  {
   "cell_type": "code",
   "execution_count": 13,
   "metadata": {},
   "outputs": [],
   "source": [
    "# generate list of lines of desired size\n",
    "example = ran_set(21)"
   ]
  },
  {
   "cell_type": "code",
   "execution_count": 14,
   "metadata": {},
   "outputs": [
    {
     "data": {
      "image/png": "[encoded data removed]",
      "text/plain": [
       "<Figure size 432x288 with 1 Axes>"
      ]
     },
     "metadata": {
      "needs_background": "light"
     },
     "output_type": "display_data"
    }
   ],
   "source": [
    "# list of points\n",
    "point_vis(example)"
   ]
  },
  {
   "cell_type": "code",
   "execution_count": 21,
   "metadata": {},
   "outputs": [
    {
     "data": {
      "text/plain": [
       "[((10, 8), (7, 5), (3, 1), (9, 7)),\n",
       " ((2, 8), (2, 6), (2, 9), (2, 1)),\n",
       " ((10, 8), (10, 5), (10, 7), (10, 6), (10, 2)),\n",
       " ((7, 4), (7, 5), (7, 2), (7, 9))]"
      ]
     },
     "execution_count": 21,
     "metadata": {},
     "output_type": "execute_result"
    }
   ],
   "source": [
    "#find all lines with minimum size of any number (>=3 acceptable)\n",
    "num_segment = find_lines(example, 4)\n",
    "num_segment"
   ]
  },
  {
   "cell_type": "code",
   "execution_count": 22,
   "metadata": {},
   "outputs": [
    {
     "data": {
      "image/png": "[encoded data removed]",
      "text/plain": [
       "<Figure size 432x288 with 1 Axes>"
      ]
     },
     "metadata": {
      "needs_background": "light"
     },
     "output_type": "display_data"
    }
   ],
   "source": [
    "#plot points and lines\n",
    "lines_plot(example, num_segment)"
   ]
  },
  {
   "cell_type": "code",
   "execution_count": null,
   "metadata": {},
   "outputs": [],
   "source": []
  }
 ],
 "metadata": {
  "kernelspec": {
   "display_name": "Python 3",
   "language": "python",
   "name": "python3"
  },
  "language_info": {
   "codemirror_mode": {
    "name": "ipython",
    "version": 3
   },
   "file_extension": ".py",
   "mimetype": "text/x-python",
   "name": "python",
   "nbconvert_exporter": "python",
   "pygments_lexer": "ipython3",
   "version": "3.7.3"
  }
 },
 "nbformat": 4,
 "nbformat_minor": 2
}
